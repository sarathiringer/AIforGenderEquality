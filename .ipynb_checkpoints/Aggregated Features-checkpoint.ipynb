{
 "cells": [
  {
   "cell_type": "code",
   "execution_count": 112,
   "metadata": {},
   "outputs": [],
   "source": [
    "# Packages\n",
    "import numpy as np\n",
    "import pandas as pd"
   ]
  },
  {
   "cell_type": "code",
   "execution_count": 114,
   "metadata": {},
   "outputs": [],
   "source": [
    "# Load data\n",
    "data_sara_vacuum_raw = pd.read_csv('data/sara_vacuum.csv')[50:-50]\n",
    "data_sara_picking_raw = pd.read_csv('data/sara_picking.csv')[50:-50]\n",
    "data_sara_walking_raw = pd.read_csv('data/sara_walking.csv')[50:-50]\n",
    "\n",
    "# Pick relevant variables\n",
    "data_sara_vacuum = data_sara_vacuum_raw[[\"ACCELEROMETER X (m/s²)\",\n",
    "                              \"ACCELEROMETER Y (m/s²)\",\n",
    "                              \"ACCELEROMETER Z (m/s²)\",\n",
    "                              \"GYROSCOPE X (rad/s)\",\n",
    "                              \"GYROSCOPE Y (rad/s)\",\n",
    "                              \"GYROSCOPE Z (rad/s)\",\n",
    "                              \"GRAVITY X (m/s²)\",\n",
    "                              \"GRAVITY Y (m/s²)\",\n",
    "                              \"GRAVITY Z (m/s²)\"]]\n",
    "data_sara_picking = data_sara_picking_raw[[\"ACCELEROMETER X (m/s²)\",\n",
    "                              \"ACCELEROMETER Y (m/s²)\",\n",
    "                              \"ACCELEROMETER Z (m/s²)\",\n",
    "                              \"GYROSCOPE X (rad/s)\",\n",
    "                              \"GYROSCOPE Y (rad/s)\",\n",
    "                              \"GYROSCOPE Z (rad/s)\",\n",
    "                              \"GRAVITY X (m/s²)\",\n",
    "                              \"GRAVITY Y (m/s²)\",\n",
    "                              \"GRAVITY Z (m/s²)\"]]\n",
    "data_sara_walking = data_sara_walking_raw[[\"ACCELEROMETER X (m/s²)\",\n",
    "                              \"ACCELEROMETER Y (m/s²)\",\n",
    "                              \"ACCELEROMETER Z (m/s²)\",\n",
    "                              \"GYROSCOPE X (rad/s)\",\n",
    "                              \"GYROSCOPE Y (rad/s)\",\n",
    "                              \"GYROSCOPE Z (rad/s)\",\n",
    "                              \"GRAVITY X (m/s²)\",\n",
    "                              \"GRAVITY Y (m/s²)\",\n",
    "                              \"GRAVITY Z (m/s²)\"]]"
   ]
  },
  {
   "cell_type": "code",
   "execution_count": 115,
   "metadata": {},
   "outputs": [
    {
     "data": {
      "text/html": [
       "<div>\n",
       "<style scoped>\n",
       "    .dataframe tbody tr th:only-of-type {\n",
       "        vertical-align: middle;\n",
       "    }\n",
       "\n",
       "    .dataframe tbody tr th {\n",
       "        vertical-align: top;\n",
       "    }\n",
       "\n",
       "    .dataframe thead th {\n",
       "        text-align: right;\n",
       "    }\n",
       "</style>\n",
       "<table border=\"1\" class=\"dataframe\">\n",
       "  <thead>\n",
       "    <tr style=\"text-align: right;\">\n",
       "      <th></th>\n",
       "      <th>ACCELEROMETER X (m/s²)</th>\n",
       "      <th>ACCELEROMETER Y (m/s²)</th>\n",
       "      <th>ACCELEROMETER Z (m/s²)</th>\n",
       "      <th>GYROSCOPE X (rad/s)</th>\n",
       "      <th>GYROSCOPE Y (rad/s)</th>\n",
       "      <th>GYROSCOPE Z (rad/s)</th>\n",
       "      <th>GRAVITY X (m/s²)</th>\n",
       "      <th>GRAVITY Y (m/s²)</th>\n",
       "      <th>GRAVITY Z (m/s²)</th>\n",
       "    </tr>\n",
       "  </thead>\n",
       "  <tbody>\n",
       "    <tr>\n",
       "      <th>50</th>\n",
       "      <td>2.8109</td>\n",
       "      <td>-9.0719</td>\n",
       "      <td>-3.0000</td>\n",
       "      <td>-0.0845</td>\n",
       "      <td>-0.7284</td>\n",
       "      <td>0.1152</td>\n",
       "      <td>-1.9680</td>\n",
       "      <td>-9.5650</td>\n",
       "      <td>-0.8990</td>\n",
       "    </tr>\n",
       "    <tr>\n",
       "      <th>51</th>\n",
       "      <td>-2.2841</td>\n",
       "      <td>-8.5811</td>\n",
       "      <td>-2.2961</td>\n",
       "      <td>0.1452</td>\n",
       "      <td>-0.5470</td>\n",
       "      <td>0.0224</td>\n",
       "      <td>-1.5553</td>\n",
       "      <td>-9.5990</td>\n",
       "      <td>-1.2693</td>\n",
       "    </tr>\n",
       "    <tr>\n",
       "      <th>52</th>\n",
       "      <td>-0.8452</td>\n",
       "      <td>-9.8333</td>\n",
       "      <td>-2.8803</td>\n",
       "      <td>0.3346</td>\n",
       "      <td>-0.3582</td>\n",
       "      <td>-0.0180</td>\n",
       "      <td>-1.6262</td>\n",
       "      <td>-9.5926</td>\n",
       "      <td>-1.2279</td>\n",
       "    </tr>\n",
       "    <tr>\n",
       "      <th>53</th>\n",
       "      <td>-0.6848</td>\n",
       "      <td>-8.7032</td>\n",
       "      <td>-2.1764</td>\n",
       "      <td>0.1232</td>\n",
       "      <td>-0.4566</td>\n",
       "      <td>-0.0570</td>\n",
       "      <td>-1.5755</td>\n",
       "      <td>-9.5933</td>\n",
       "      <td>-1.2867</td>\n",
       "    </tr>\n",
       "    <tr>\n",
       "      <th>54</th>\n",
       "      <td>-1.6592</td>\n",
       "      <td>-9.2994</td>\n",
       "      <td>-2.6409</td>\n",
       "      <td>-0.0612</td>\n",
       "      <td>-0.3839</td>\n",
       "      <td>0.0016</td>\n",
       "      <td>-1.5056</td>\n",
       "      <td>-9.6030</td>\n",
       "      <td>-1.2984</td>\n",
       "    </tr>\n",
       "    <tr>\n",
       "      <th>...</th>\n",
       "      <td>...</td>\n",
       "      <td>...</td>\n",
       "      <td>...</td>\n",
       "      <td>...</td>\n",
       "      <td>...</td>\n",
       "      <td>...</td>\n",
       "      <td>...</td>\n",
       "      <td>...</td>\n",
       "      <td>...</td>\n",
       "    </tr>\n",
       "    <tr>\n",
       "      <th>1092</th>\n",
       "      <td>4.9969</td>\n",
       "      <td>-3.3807</td>\n",
       "      <td>0.2873</td>\n",
       "      <td>-0.4632</td>\n",
       "      <td>5.4713</td>\n",
       "      <td>-5.4693</td>\n",
       "      <td>8.0430</td>\n",
       "      <td>5.5953</td>\n",
       "      <td>-0.4168</td>\n",
       "    </tr>\n",
       "    <tr>\n",
       "      <th>1093</th>\n",
       "      <td>-1.4509</td>\n",
       "      <td>4.3935</td>\n",
       "      <td>3.8189</td>\n",
       "      <td>-0.0258</td>\n",
       "      <td>6.5757</td>\n",
       "      <td>-3.2488</td>\n",
       "      <td>4.3989</td>\n",
       "      <td>8.0867</td>\n",
       "      <td>3.3801</td>\n",
       "    </tr>\n",
       "    <tr>\n",
       "      <th>1094</th>\n",
       "      <td>1.3456</td>\n",
       "      <td>7.3768</td>\n",
       "      <td>4.1062</td>\n",
       "      <td>-1.9897</td>\n",
       "      <td>2.5776</td>\n",
       "      <td>0.6351</td>\n",
       "      <td>2.0549</td>\n",
       "      <td>7.7889</td>\n",
       "      <td>5.5929</td>\n",
       "    </tr>\n",
       "    <tr>\n",
       "      <th>1095</th>\n",
       "      <td>3.6752</td>\n",
       "      <td>5.5547</td>\n",
       "      <td>8.5883</td>\n",
       "      <td>-1.0875</td>\n",
       "      <td>1.8214</td>\n",
       "      <td>1.9814</td>\n",
       "      <td>1.6781</td>\n",
       "      <td>6.5008</td>\n",
       "      <td>7.1480</td>\n",
       "    </tr>\n",
       "    <tr>\n",
       "      <th>1096</th>\n",
       "      <td>1.4797</td>\n",
       "      <td>4.1182</td>\n",
       "      <td>10.1589</td>\n",
       "      <td>0.0322</td>\n",
       "      <td>0.7927</td>\n",
       "      <td>0.2924</td>\n",
       "      <td>1.3490</td>\n",
       "      <td>5.8674</td>\n",
       "      <td>7.7411</td>\n",
       "    </tr>\n",
       "  </tbody>\n",
       "</table>\n",
       "<p>1047 rows × 9 columns</p>\n",
       "</div>"
      ],
      "text/plain": [
       "      ACCELEROMETER X (m/s²)  ACCELEROMETER Y (m/s²)  ACCELEROMETER Z (m/s²)  \\\n",
       "50                    2.8109                 -9.0719                 -3.0000   \n",
       "51                   -2.2841                 -8.5811                 -2.2961   \n",
       "52                   -0.8452                 -9.8333                 -2.8803   \n",
       "53                   -0.6848                 -8.7032                 -2.1764   \n",
       "54                   -1.6592                 -9.2994                 -2.6409   \n",
       "...                      ...                     ...                     ...   \n",
       "1092                  4.9969                 -3.3807                  0.2873   \n",
       "1093                 -1.4509                  4.3935                  3.8189   \n",
       "1094                  1.3456                  7.3768                  4.1062   \n",
       "1095                  3.6752                  5.5547                  8.5883   \n",
       "1096                  1.4797                  4.1182                 10.1589   \n",
       "\n",
       "      GYROSCOPE X (rad/s)  GYROSCOPE Y (rad/s)  GYROSCOPE Z (rad/s)  \\\n",
       "50                -0.0845              -0.7284               0.1152   \n",
       "51                 0.1452              -0.5470               0.0224   \n",
       "52                 0.3346              -0.3582              -0.0180   \n",
       "53                 0.1232              -0.4566              -0.0570   \n",
       "54                -0.0612              -0.3839               0.0016   \n",
       "...                   ...                  ...                  ...   \n",
       "1092              -0.4632               5.4713              -5.4693   \n",
       "1093              -0.0258               6.5757              -3.2488   \n",
       "1094              -1.9897               2.5776               0.6351   \n",
       "1095              -1.0875               1.8214               1.9814   \n",
       "1096               0.0322               0.7927               0.2924   \n",
       "\n",
       "      GRAVITY X (m/s²)  GRAVITY Y (m/s²)  GRAVITY Z (m/s²)  \n",
       "50             -1.9680           -9.5650           -0.8990  \n",
       "51             -1.5553           -9.5990           -1.2693  \n",
       "52             -1.6262           -9.5926           -1.2279  \n",
       "53             -1.5755           -9.5933           -1.2867  \n",
       "54             -1.5056           -9.6030           -1.2984  \n",
       "...                ...               ...               ...  \n",
       "1092            8.0430            5.5953           -0.4168  \n",
       "1093            4.3989            8.0867            3.3801  \n",
       "1094            2.0549            7.7889            5.5929  \n",
       "1095            1.6781            6.5008            7.1480  \n",
       "1096            1.3490            5.8674            7.7411  \n",
       "\n",
       "[1047 rows x 9 columns]"
      ]
     },
     "execution_count": 115,
     "metadata": {},
     "output_type": "execute_result"
    }
   ],
   "source": [
    "data_sara_vacuum"
   ]
  },
  {
   "cell_type": "code",
   "execution_count": 116,
   "metadata": {},
   "outputs": [],
   "source": [
    "test_data = data_sara_vacuum.copy()"
   ]
  },
  {
   "cell_type": "code",
   "execution_count": 117,
   "metadata": {},
   "outputs": [],
   "source": [
    "seconds = 10"
   ]
  },
  {
   "cell_type": "code",
   "execution_count": 118,
   "metadata": {},
   "outputs": [],
   "source": [
    "if (len(test_data) % seconds != 0):\n",
    "    rows_to_remove = len(test_data) % seconds\n",
    "    test_data = np.array(test_data[:-rows_to_remove])"
   ]
  },
  {
   "cell_type": "code",
   "execution_count": 119,
   "metadata": {},
   "outputs": [
    {
     "data": {
      "text/plain": [
       "(1040, 9)"
      ]
     },
     "execution_count": 119,
     "metadata": {},
     "output_type": "execute_result"
    }
   ],
   "source": [
    "test_data.shape"
   ]
  },
  {
   "cell_type": "code",
   "execution_count": 121,
   "metadata": {},
   "outputs": [],
   "source": [
    "test_reshaped = test_data.reshape(np.int(len(test_data)/seconds), seconds, 9)"
   ]
  },
  {
   "cell_type": "code",
   "execution_count": 122,
   "metadata": {},
   "outputs": [
    {
     "data": {
      "text/plain": [
       "array([[ 2.81090e+00, -9.07190e+00, -3.00000e+00, -8.45000e-02,\n",
       "        -7.28400e-01,  1.15200e-01, -1.96800e+00, -9.56500e+00,\n",
       "        -8.99000e-01],\n",
       "       [-2.28410e+00, -8.58110e+00, -2.29610e+00,  1.45200e-01,\n",
       "        -5.47000e-01,  2.24000e-02, -1.55530e+00, -9.59900e+00,\n",
       "        -1.26930e+00],\n",
       "       [-8.45200e-01, -9.83330e+00, -2.88030e+00,  3.34600e-01,\n",
       "        -3.58200e-01, -1.80000e-02, -1.62620e+00, -9.59260e+00,\n",
       "        -1.22790e+00],\n",
       "       [-6.84800e-01, -8.70320e+00, -2.17640e+00,  1.23200e-01,\n",
       "        -4.56600e-01, -5.70000e-02, -1.57550e+00, -9.59330e+00,\n",
       "        -1.28670e+00],\n",
       "       [-1.65920e+00, -9.29940e+00, -2.64090e+00, -6.12000e-02,\n",
       "        -3.83900e-01,  1.60000e-03, -1.50560e+00, -9.60300e+00,\n",
       "        -1.29840e+00],\n",
       "       [-7.49400e-01, -9.33770e+00, -3.14130e+00, -1.34500e-01,\n",
       "        -4.41300e-01,  1.99000e-02, -1.56050e+00, -9.57200e+00,\n",
       "        -1.45340e+00],\n",
       "       [-3.10780e+00, -1.09107e+01, -3.03590e+00, -6.42200e-01,\n",
       "        -9.48900e-01, -6.68000e-02, -1.54560e+00, -9.52290e+00,\n",
       "        -1.75970e+00],\n",
       "       [-1.53950e+00, -9.30180e+00,  1.35760e+00, -4.22300e-01,\n",
       "        -1.52800e+00, -2.04000e-02, -1.76210e+00, -9.44150e+00,\n",
       "        -1.98080e+00],\n",
       "       [-2.80370e+00, -9.80930e+00,  1.63290e+00, -4.49800e-01,\n",
       "        -8.63400e-01,  1.31700e-01, -2.08780e+00, -9.44280e+00,\n",
       "        -1.62600e+00],\n",
       "       [-2.06150e+00, -9.28500e+00,  1.79600e-01, -3.55700e-01,\n",
       "        -6.50200e-01, -7.54000e-02, -2.23320e+00, -9.45220e+00,\n",
       "        -1.35620e+00]])"
      ]
     },
     "execution_count": 122,
     "metadata": {},
     "output_type": "execute_result"
    }
   ],
   "source": [
    "test_reshaped[0]"
   ]
  },
  {
   "cell_type": "code",
   "execution_count": 123,
   "metadata": {},
   "outputs": [],
   "source": [
    "test_df = pd.DataFrame(test_reshaped[0])"
   ]
  },
  {
   "cell_type": "code",
   "execution_count": 124,
   "metadata": {},
   "outputs": [
    {
     "data": {
      "text/plain": [
       "104"
      ]
     },
     "execution_count": 124,
     "metadata": {},
     "output_type": "execute_result"
    }
   ],
   "source": [
    "len(test_reshaped)"
   ]
  },
  {
   "cell_type": "code",
   "execution_count": 125,
   "metadata": {},
   "outputs": [
    {
     "ename": "SyntaxError",
     "evalue": "unexpected EOF while parsing (<ipython-input-125-9e2ab7bed9a9>, line 5)",
     "output_type": "error",
     "traceback": [
      "\u001b[0;36m  File \u001b[0;32m\"<ipython-input-125-9e2ab7bed9a9>\"\u001b[0;36m, line \u001b[0;32m5\u001b[0m\n\u001b[0;31m    \u001b[0m\n\u001b[0m    ^\u001b[0m\n\u001b[0;31mSyntaxError\u001b[0m\u001b[0;31m:\u001b[0m unexpected EOF while parsing\n"
     ]
    }
   ],
   "source": [
    "means = []\n",
    "std_devs = []\n",
    "\n",
    "for batch in len(test_reshaped):\n",
    "    "
   ]
  },
  {
   "cell_type": "code",
   "execution_count": 130,
   "metadata": {},
   "outputs": [
    {
     "data": {
      "text/plain": [
       "array([-1.29243e+00, -9.41334e+00, -1.60008e+00, -1.54720e-01,\n",
       "       -6.90590e-01,  5.32000e-03, -1.74198e+00, -9.53843e+00,\n",
       "       -1.41574e+00])"
      ]
     },
     "execution_count": 130,
     "metadata": {},
     "output_type": "execute_result"
    }
   ],
   "source": [
    "test_reshaped[0].mean(axis = 0)"
   ]
  },
  {
   "cell_type": "code",
   "execution_count": null,
   "metadata": {},
   "outputs": [],
   "source": []
  }
 ],
 "metadata": {
  "kernelspec": {
   "display_name": "Python 3",
   "language": "python",
   "name": "python3"
  },
  "language_info": {
   "codemirror_mode": {
    "name": "ipython",
    "version": 3
   },
   "file_extension": ".py",
   "mimetype": "text/x-python",
   "name": "python",
   "nbconvert_exporter": "python",
   "pygments_lexer": "ipython3",
   "version": "3.7.3"
  }
 },
 "nbformat": 4,
 "nbformat_minor": 4
}
