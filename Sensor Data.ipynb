{
 "cells": [
  {
   "cell_type": "code",
   "execution_count": 30,
   "metadata": {},
   "outputs": [],
   "source": [
    "# Libraries\n",
    "import numpy as np\n",
    "import pandas as pd\n",
    "import seaborn as sns"
   ]
  },
  {
   "cell_type": "code",
   "execution_count": 31,
   "metadata": {},
   "outputs": [],
   "source": [
    "# Load data\n",
    "data_myky_vacuum = pd.read_csv('data/myky_vacuum.csv')\n",
    "data_myky_picking = pd.read_csv('data/myky_picking.csv')\n",
    "data_myky_walking = pd.read_csv('data/myky_walking.csv')\n",
    "\n",
    "# Label\n",
    "data_myky_vacuum['Activity'] = 'Vacuum'\n",
    "data_myky_picking['Activity'] = 'Picking'\n",
    "data_myky_walking['Activity'] = 'Walking'"
   ]
  },
  {
   "cell_type": "code",
   "execution_count": 32,
   "metadata": {},
   "outputs": [
    {
     "data": {
      "text/html": [
       "<div>\n",
       "<style scoped>\n",
       "    .dataframe tbody tr th:only-of-type {\n",
       "        vertical-align: middle;\n",
       "    }\n",
       "\n",
       "    .dataframe tbody tr th {\n",
       "        vertical-align: top;\n",
       "    }\n",
       "\n",
       "    .dataframe thead th {\n",
       "        text-align: right;\n",
       "    }\n",
       "</style>\n",
       "<table border=\"1\" class=\"dataframe\">\n",
       "  <thead>\n",
       "    <tr style=\"text-align: right;\">\n",
       "      <th></th>\n",
       "      <th>ACCELEROMETER X (m/s²)</th>\n",
       "      <th>ACCELEROMETER Y (m/s²)</th>\n",
       "      <th>ACCELEROMETER Z (m/s²)</th>\n",
       "      <th>GRAVITY X (m/s²)</th>\n",
       "      <th>GRAVITY Y (m/s²)</th>\n",
       "      <th>GRAVITY Z (m/s²)</th>\n",
       "      <th>LINEAR ACCELERATION X (m/s²)</th>\n",
       "      <th>LINEAR ACCELERATION Y (m/s²)</th>\n",
       "      <th>LINEAR ACCELERATION Z (m/s²)</th>\n",
       "      <th>GYROSCOPE X (rad/s)</th>\n",
       "      <th>...</th>\n",
       "      <th>LOCATION Longitude :</th>\n",
       "      <th>LOCATION Altitude ( m)</th>\n",
       "      <th>LOCATION Altitude-google ( m)</th>\n",
       "      <th>LOCATION Speed ( Kmh)</th>\n",
       "      <th>LOCATION Accuracy ( m)</th>\n",
       "      <th>LOCATION ORIENTATION (°)</th>\n",
       "      <th>Satellites in range</th>\n",
       "      <th>Time since start in ms</th>\n",
       "      <th>YYYY-MO-DD HH-MI-SS_SSS</th>\n",
       "      <th>Activity</th>\n",
       "    </tr>\n",
       "  </thead>\n",
       "  <tbody>\n",
       "    <tr>\n",
       "      <th>0</th>\n",
       "      <td>-1.7767</td>\n",
       "      <td>2.0458</td>\n",
       "      <td>9.7830</td>\n",
       "      <td>-1.3664</td>\n",
       "      <td>2.3689</td>\n",
       "      <td>9.4176</td>\n",
       "      <td>-0.4322</td>\n",
       "      <td>-0.3349</td>\n",
       "      <td>-0.2438</td>\n",
       "      <td>-0.0590</td>\n",
       "      <td>...</td>\n",
       "      <td>NaN</td>\n",
       "      <td>NaN</td>\n",
       "      <td>NaN</td>\n",
       "      <td>NaN</td>\n",
       "      <td>NaN</td>\n",
       "      <td>NaN</td>\n",
       "      <td>0 / 0</td>\n",
       "      <td>16</td>\n",
       "      <td>2020-12-03 18:37:43:459</td>\n",
       "      <td>Vacuum</td>\n",
       "    </tr>\n",
       "    <tr>\n",
       "      <th>1</th>\n",
       "      <td>-2.1390</td>\n",
       "      <td>2.0249</td>\n",
       "      <td>9.2032</td>\n",
       "      <td>-2.1063</td>\n",
       "      <td>2.2908</td>\n",
       "      <td>9.2997</td>\n",
       "      <td>-0.2322</td>\n",
       "      <td>-0.5125</td>\n",
       "      <td>0.4364</td>\n",
       "      <td>0.0107</td>\n",
       "      <td>...</td>\n",
       "      <td>NaN</td>\n",
       "      <td>NaN</td>\n",
       "      <td>NaN</td>\n",
       "      <td>NaN</td>\n",
       "      <td>NaN</td>\n",
       "      <td>NaN</td>\n",
       "      <td>0 / 0</td>\n",
       "      <td>116</td>\n",
       "      <td>2020-12-03 18:37:43:559</td>\n",
       "      <td>Vacuum</td>\n",
       "    </tr>\n",
       "    <tr>\n",
       "      <th>2</th>\n",
       "      <td>-3.0378</td>\n",
       "      <td>2.3733</td>\n",
       "      <td>8.8871</td>\n",
       "      <td>-2.7166</td>\n",
       "      <td>2.4259</td>\n",
       "      <td>9.1052</td>\n",
       "      <td>-0.3519</td>\n",
       "      <td>-0.0978</td>\n",
       "      <td>-0.7759</td>\n",
       "      <td>0.0107</td>\n",
       "      <td>...</td>\n",
       "      <td>NaN</td>\n",
       "      <td>NaN</td>\n",
       "      <td>NaN</td>\n",
       "      <td>NaN</td>\n",
       "      <td>NaN</td>\n",
       "      <td>NaN</td>\n",
       "      <td>0 / 0</td>\n",
       "      <td>217</td>\n",
       "      <td>2020-12-03 18:37:43:660</td>\n",
       "      <td>Vacuum</td>\n",
       "    </tr>\n",
       "    <tr>\n",
       "      <th>3</th>\n",
       "      <td>-2.5658</td>\n",
       "      <td>2.0652</td>\n",
       "      <td>9.4708</td>\n",
       "      <td>-2.7166</td>\n",
       "      <td>2.4259</td>\n",
       "      <td>9.1052</td>\n",
       "      <td>0.1700</td>\n",
       "      <td>-0.2439</td>\n",
       "      <td>0.5378</td>\n",
       "      <td>-0.4130</td>\n",
       "      <td>...</td>\n",
       "      <td>NaN</td>\n",
       "      <td>NaN</td>\n",
       "      <td>NaN</td>\n",
       "      <td>NaN</td>\n",
       "      <td>NaN</td>\n",
       "      <td>NaN</td>\n",
       "      <td>0 / 0</td>\n",
       "      <td>316</td>\n",
       "      <td>2020-12-03 18:37:43:759</td>\n",
       "      <td>Vacuum</td>\n",
       "    </tr>\n",
       "    <tr>\n",
       "      <th>4</th>\n",
       "      <td>-2.5658</td>\n",
       "      <td>2.0652</td>\n",
       "      <td>9.4708</td>\n",
       "      <td>-2.8546</td>\n",
       "      <td>2.4317</td>\n",
       "      <td>9.0613</td>\n",
       "      <td>0.1383</td>\n",
       "      <td>-0.2954</td>\n",
       "      <td>0.4692</td>\n",
       "      <td>-0.0974</td>\n",
       "      <td>...</td>\n",
       "      <td>NaN</td>\n",
       "      <td>NaN</td>\n",
       "      <td>NaN</td>\n",
       "      <td>NaN</td>\n",
       "      <td>NaN</td>\n",
       "      <td>NaN</td>\n",
       "      <td>0 / 0</td>\n",
       "      <td>416</td>\n",
       "      <td>2020-12-03 18:37:43:859</td>\n",
       "      <td>Vacuum</td>\n",
       "    </tr>\n",
       "  </tbody>\n",
       "</table>\n",
       "<p>5 rows × 31 columns</p>\n",
       "</div>"
      ],
      "text/plain": [
       "   ACCELEROMETER X (m/s²)  ACCELEROMETER Y (m/s²)  ACCELEROMETER Z (m/s²)  \\\n",
       "0                 -1.7767                  2.0458                  9.7830   \n",
       "1                 -2.1390                  2.0249                  9.2032   \n",
       "2                 -3.0378                  2.3733                  8.8871   \n",
       "3                 -2.5658                  2.0652                  9.4708   \n",
       "4                 -2.5658                  2.0652                  9.4708   \n",
       "\n",
       "   GRAVITY X (m/s²)  GRAVITY Y (m/s²)  GRAVITY Z (m/s²)  \\\n",
       "0           -1.3664            2.3689            9.4176   \n",
       "1           -2.1063            2.2908            9.2997   \n",
       "2           -2.7166            2.4259            9.1052   \n",
       "3           -2.7166            2.4259            9.1052   \n",
       "4           -2.8546            2.4317            9.0613   \n",
       "\n",
       "   LINEAR ACCELERATION X (m/s²)  LINEAR ACCELERATION Y (m/s²)  \\\n",
       "0                       -0.4322                       -0.3349   \n",
       "1                       -0.2322                       -0.5125   \n",
       "2                       -0.3519                       -0.0978   \n",
       "3                        0.1700                       -0.2439   \n",
       "4                        0.1383                       -0.2954   \n",
       "\n",
       "   LINEAR ACCELERATION Z (m/s²)  GYROSCOPE X (rad/s)  ...  \\\n",
       "0                       -0.2438              -0.0590  ...   \n",
       "1                        0.4364               0.0107  ...   \n",
       "2                       -0.7759               0.0107  ...   \n",
       "3                        0.5378              -0.4130  ...   \n",
       "4                        0.4692              -0.0974  ...   \n",
       "\n",
       "   LOCATION Longitude :   LOCATION Altitude ( m)  \\\n",
       "0                    NaN                     NaN   \n",
       "1                    NaN                     NaN   \n",
       "2                    NaN                     NaN   \n",
       "3                    NaN                     NaN   \n",
       "4                    NaN                     NaN   \n",
       "\n",
       "   LOCATION Altitude-google ( m)  LOCATION Speed ( Kmh)  \\\n",
       "0                            NaN                    NaN   \n",
       "1                            NaN                    NaN   \n",
       "2                            NaN                    NaN   \n",
       "3                            NaN                    NaN   \n",
       "4                            NaN                    NaN   \n",
       "\n",
       "   LOCATION Accuracy ( m)  LOCATION ORIENTATION (°)  Satellites in range  \\\n",
       "0                     NaN                       NaN                0 / 0   \n",
       "1                     NaN                       NaN                0 / 0   \n",
       "2                     NaN                       NaN                0 / 0   \n",
       "3                     NaN                       NaN                0 / 0   \n",
       "4                     NaN                       NaN                0 / 0   \n",
       "\n",
       "   Time since start in ms   YYYY-MO-DD HH-MI-SS_SSS  Activity  \n",
       "0                       16  2020-12-03 18:37:43:459    Vacuum  \n",
       "1                      116  2020-12-03 18:37:43:559    Vacuum  \n",
       "2                      217  2020-12-03 18:37:43:660    Vacuum  \n",
       "3                      316  2020-12-03 18:37:43:759    Vacuum  \n",
       "4                      416  2020-12-03 18:37:43:859    Vacuum  \n",
       "\n",
       "[5 rows x 31 columns]"
      ]
     },
     "execution_count": 32,
     "metadata": {},
     "output_type": "execute_result"
    }
   ],
   "source": [
    "# Inspect\n",
    "data_myky_vacuum.head()"
   ]
  },
  {
   "cell_type": "code",
   "execution_count": 33,
   "metadata": {},
   "outputs": [],
   "source": [
    "# Put data in one df\n",
    "\n",
    "dfs = []\n",
    "\n",
    "for df in [data_myky_vacuum, data_myky_picking, data_myky_walking]:\n",
    "    \n",
    "    # Pick columns\n",
    "    data = df[[\"ACCELEROMETER X (m/s²)\",\n",
    "                              \"ACCELEROMETER Y (m/s²)\",\n",
    "                              \"ACCELEROMETER Z (m/s²)\",\n",
    "                              \"GYROSCOPE X (rad/s)\",\n",
    "                              \"GYROSCOPE Y (rad/s)\",\n",
    "                              \"GYROSCOPE Z (rad/s)\",\n",
    "                              \"GRAVITY X (m/s²)\",\n",
    "                              \"GRAVITY Y (m/s²)\",\n",
    "                              \"GRAVITY Z (m/s²)\",\n",
    "                              \"Activity\"]]\n",
    "    \n",
    "    dfs.append(data)\n",
    "\n",
    "# Put together\n",
    "data = pd.concat(dfs, axis = 0)"
   ]
  },
  {
   "cell_type": "code",
   "execution_count": 34,
   "metadata": {},
   "outputs": [
    {
     "data": {
      "text/plain": [
       "0     Vacuum\n",
       "0    Picking\n",
       "0    Walking\n",
       "Name: Activity, dtype: object"
      ]
     },
     "execution_count": 34,
     "metadata": {},
     "output_type": "execute_result"
    }
   ],
   "source": [
    "# Inspect so that all three labels are in the data\n",
    "data['Activity'].drop_duplicates()"
   ]
  },
  {
   "cell_type": "code",
   "execution_count": 35,
   "metadata": {},
   "outputs": [
    {
     "data": {
      "text/plain": [
       "<matplotlib.axes._subplots.AxesSubplot at 0x7ff9d27f3048>"
      ]
     },
     "execution_count": 35,
     "metadata": {},
     "output_type": "execute_result"
    },
    {
     "data": {
      "image/png": "[encoded data removed]",
      "text/plain": [
       "<Figure size 432x288 with 1 Axes>"
      ]
     },
     "metadata": {
      "needs_background": "light"
     },
     "output_type": "display_data"
    }
   ],
   "source": [
    "# Check distribution of activities\n",
    "sns.histplot(x = 'Activity', data = data)"
   ]
  },
  {
   "cell_type": "code",
   "execution_count": 36,
   "metadata": {},
   "outputs": [
    {
     "data": {
      "text/plain": [
       "0    Vacuum\n",
       "1    Vacuum\n",
       "2    Vacuum\n",
       "3    Vacuum\n",
       "4    Vacuum\n",
       "Name: Activity, dtype: object"
      ]
     },
     "execution_count": 36,
     "metadata": {},
     "output_type": "execute_result"
    }
   ],
   "source": [
    "# Separate labels and features\n",
    "y = data['Activity']\n",
    "x = data.drop(labels = 'Activity', axis = 1)\n",
    "\n",
    "y.head()"
   ]
  },
  {
   "cell_type": "code",
   "execution_count": 37,
   "metadata": {},
   "outputs": [],
   "source": [
    "from sklearn.preprocessing import StandardScaler\n",
    "\n",
    "# Transforming the data\n",
    "scl = StandardScaler()\n",
    "x = scl.fit_transform(x)"
   ]
  },
  {
   "cell_type": "code",
   "execution_count": 38,
   "metadata": {},
   "outputs": [],
   "source": [
    "from sklearn.decomposition import PCA\n",
    "\n",
    "# Reduce dimensions\n",
    "pca = PCA(n_components = 0.9, random_state = 42)\n",
    "x = pca.fit_transform(x)"
   ]
  },
  {
   "cell_type": "code",
   "execution_count": 39,
   "metadata": {},
   "outputs": [],
   "source": [
    "from sklearn.manifold import TSNE\n",
    "\n",
    "# Transform\n",
    "tsne = TSNE(random_state = 42)\n",
    "x_transformed = tsne.fit_transform(x)"
   ]
  },
  {
   "cell_type": "code",
   "execution_count": 40,
   "metadata": {},
   "outputs": [
    {
     "data": {
      "text/plain": [
       "<matplotlib.legend.Legend at 0x7ff9ce7c4f60>"
      ]
     },
     "execution_count": 40,
     "metadata": {},
     "output_type": "execute_result"
    },
    {
     "data": {
      "image/png": "[encoded data removed]",
      "text/plain": [
       "<Figure size 1080x720 with 2 Axes>"
      ]
     },
     "metadata": {
      "needs_background": "light"
     },
     "output_type": "display_data"
    }
   ],
   "source": [
    "import matplotlib.pyplot as plt\n",
    "from matplotlib.cm import get_cmap\n",
    "from matplotlib.colors import rgb2hex\n",
    "\n",
    "# Subplot\n",
    "fig, axarr = plt.subplots(2, 1, figsize =(15, 10))\n",
    "\n",
    "n = y.unique().shape[0]\n",
    "colormap = get_cmap('viridis')\n",
    "colors = [rgb2hex(colormap(col)) for col in np.arange(0, 1.01, 1/(n-1))]\n",
    "\n",
    "# Plot each activity\n",
    "for i, group in enumerate(y.value_counts().index):\n",
    "    # Mask to separate sets\n",
    "    mask = (y==group).values\n",
    "    axarr[0].scatter(x=x_transformed[mask][:,0], y=x_transformed[mask][:,1], c=colors[i], alpha=0.5, label=group)\n",
    "axarr[0].set_title('TSNE: Activity Visualisation')\n",
    "axarr[0].legend()"
   ]
  },
  {
   "cell_type": "code",
   "execution_count": null,
   "metadata": {},
   "outputs": [],
   "source": []
  },
  {
   "cell_type": "code",
   "execution_count": null,
   "metadata": {},
   "outputs": [],
   "source": []
  }
 ],
 "metadata": {
  "kernelspec": {
   "display_name": "Python 3",
   "language": "python",
   "name": "python3"
  },
  "language_info": {
   "codemirror_mode": {
    "name": "ipython",
    "version": 3
   },
   "file_extension": ".py",
   "mimetype": "text/x-python",
   "name": "python",
   "nbconvert_exporter": "python",
   "pygments_lexer": "ipython3",
   "version": "3.7.3"
  }
 },
 "nbformat": 4,
 "nbformat_minor": 4
}
